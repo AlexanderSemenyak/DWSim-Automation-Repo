{
 "cells": [
  {
   "cell_type": "code",
   "execution_count": 1,
   "metadata": {},
   "outputs": [
    {
     "name": "stdout",
     "output_type": "stream",
     "text": [
      "Calculator for Power and Total Head\n",
      "==================================\n",
      "\n",
      "Results:\n",
      "Velocity Head: 0.04 m\n",
      "Total Head: 1.04 m\n",
      "Power: 7623.47 Watts\n"
     ]
    }
   ],
   "source": [
    "def calculate_velocity_head(inlet_velocity, outlet_velocity, gravitation_acceleration):\n",
    "    # Calculate velocity head using the given formula\n",
    "    velocity_head = (inlet_velocity ** 2 - outlet_velocity ** 2) / (2 * gravitation_acceleration)\n",
    "    return velocity_head\n",
    "\n",
    "def calculate_total_head(static_head, velocity_head):\n",
    "    # Calculate total head using the given formula\n",
    "    total_head = static_head + velocity_head\n",
    "    return total_head\n",
    "\n",
    "def calculate_power(efficiency, fluid_density, gravitation_acceleration, total_head, volumetric_flow_rate):\n",
    "    # Calculate power using the given formula\n",
    "    power = efficiency * fluid_density * gravitation_acceleration * total_head * volumetric_flow_rate / 3600\n",
    "    return power\n",
    "\n",
    "# User interface\n",
    "def main():\n",
    "    print(\"Calculator for Power and Total Head\")\n",
    "    print(\"==================================\")\n",
    "    \n",
    "    # Input values from the user\n",
    "    efficiency = float(input(\"Enter the efficiency from (0 to 1): \"))\n",
    "    fluid_density = float(input(\"Enter the fluid density (kg/m^3): \"))\n",
    "    gravitation_acceleration = float(input(\"Enter the gravitational acceleration (m/s^2): \"))\n",
    "    static_head = float(input(\"Enter the static head (m): \"))\n",
    "    inlet_velocity = float(input(\"Enter the inlet velocity (m/s): \"))\n",
    "    outlet_velocity = float(input(\"Enter the outlet velocity (m/s): \"))\n",
    "    volumetric_flow_rate = float(input(\"Enter the volumetric flow rate (m^3/h): \"))\n",
    "\n",
    "    # Calculate velocity head\n",
    "    velocity_head = calculate_velocity_head(inlet_velocity, outlet_velocity, gravitation_acceleration)\n",
    "    \n",
    "    # Calculate total head\n",
    "    total_head = calculate_total_head(static_head, velocity_head)\n",
    "    \n",
    "    # Calculate power\n",
    "    power = calculate_power(efficiency, fluid_density, gravitation_acceleration, total_head, volumetric_flow_rate)\n",
    "    \n",
    "    # Display the results\n",
    "    print(\"\\nResults:\")\n",
    "    print(f\"Velocity Head: {velocity_head:.2f} m\")\n",
    "    print(f\"Total Head: {total_head:.2f} m\")\n",
    "    print(f\"Power: {power:.2f} Watts\")\n",
    "\n",
    "if __name__ == \"__main__\":\n",
    "    main()\n"
   ]
  }
 ],
 "metadata": {
  "kernelspec": {
   "display_name": "Python 3",
   "language": "python",
   "name": "python3"
  },
  "language_info": {
   "codemirror_mode": {
    "name": "ipython",
    "version": 3
   },
   "file_extension": ".py",
   "mimetype": "text/x-python",
   "name": "python",
   "nbconvert_exporter": "python",
   "pygments_lexer": "ipython3",
   "version": "3.11.2"
  },
  "orig_nbformat": 4
 },
 "nbformat": 4,
 "nbformat_minor": 2
}
