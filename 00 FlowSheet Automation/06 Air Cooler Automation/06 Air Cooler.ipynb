{
 "cells": [
  {
   "cell_type": "code",
   "execution_count": 1,
   "metadata": {},
   "outputs": [],
   "source": [
    "# Import the clr module, which provides the .NET Common Language Runtime (CLR) functionality for Python\n",
    "import clr\n",
    "\n",
    "# Import the System.IO module, which provides access to the input/output (I/O) operations on files and directories\n",
    "import System.IO\n",
    "\n",
    "# Import the System module, which provides access to common types and functionality in the .NET framework\n",
    "import System\n",
    "\n",
    "# Import the pythoncom module, which provides Python bindings for COM (Component Object Model) services\n",
    "import pythoncom\n",
    "\n",
    "# Import the Directory, Path, and File classes from the System.IO module, which provide methods for working with directories and files\n",
    "from System.IO import Directory, Path, File\n",
    "\n",
    "# Import the String and Environment classes from the System module, which provide methods for working with strings and environment variables\n",
    "from System import String, Environment\n",
    "\n",
    "# Initialize the COM components\n",
    "pythoncom.CoInitialize()\n",
    "\n",
    "# Set the path to the DWSIM installation folder\n",
    "dwSimPath = r\"C:\\Users\\viraj\\AppData\\Local\\DWSIM\\\\\"\n",
    "\n",
    "# Add references to the DWSIM libraries using the clr module\n",
    "# The AddReference method is used to add a reference to a .NET assembly\n",
    "# The path to the assembly is constructed using the dwSimPath variable and the name of the assembly file\n",
    "# Each assembly provides a specific set of functionality for DWSIM\n",
    "clr.AddReference(dwSimPath + \"CapeOpen.dll\")\n",
    "clr.AddReference(dwSimPath + \"DWSIM.Automation.dll\")\n",
    "clr.AddReference(dwSimPath + \"DWSIM.Interfaces.dll\")\n",
    "clr.AddReference(dwSimPath + \"DWSIM.GlobalSettings.dll\")\n",
    "clr.AddReference(dwSimPath + \"DWSIM.SharedClasses.dll\")\n",
    "clr.AddReference(dwSimPath + \"DWSIM.Thermodynamics.dll\")\n",
    "clr.AddReference(dwSimPath + \"DWSIM.UnitOperations.dll\")\n",
    "clr.AddReference(dwSimPath + \"DWSIM.Inspector.dll\")\n",
    "clr.AddReference(dwSimPath + \"System.Buffers.dll\")\n",
    "\n",
    "# Import specific classes from the DWSIM libraries using the \"from...import\" syntax\n",
    "# The classes are used in the subsequent code to access specific functionality provided by DWSIM\n",
    "from DWSIM.Interfaces.Enums.GraphicObjects import ObjectType\n",
    "from DWSIM.Thermodynamics import Streams, PropertyPackages\n",
    "from DWSIM.UnitOperations import UnitOperations\n",
    "from DWSIM.Automation import Automation3\n",
    "from DWSIM.GlobalSettings import Settings\n",
    "from System import Array\n",
    "# Set the current directory to the DWSIM installation folder using the Directory class from the System.IO module\n",
    "# This is necessary so that the DWSIM libraries can be located and imported correctly\n",
    "Directory.SetCurrentDirectory(dwSimPath)"
   ]
  },
  {
   "cell_type": "code",
   "execution_count": 2,
   "metadata": {},
   "outputs": [],
   "source": [
    "# Create an instance of the Automation3 class from the DWSIM.Automation module\n",
    "# This class provides methods for automating tasks in DWSIM, such as creating and manipulating flowsheets\n",
    "interf = Automation3()"
   ]
  },
  {
   "cell_type": "code",
   "execution_count": 3,
   "metadata": {},
   "outputs": [],
   "source": [
    "# Creates a flowsheet\n",
    "sim = interf.CreateFlowsheet()"
   ]
  },
  {
   "cell_type": "code",
   "execution_count": 4,
   "metadata": {},
   "outputs": [
    {
     "data": {
      "text/plain": [
       "<DWSIM.Interfaces.ICompoundConstantProperties object at 0x000001FE4B066D40>"
      ]
     },
     "execution_count": 4,
     "metadata": {},
     "output_type": "execute_result"
    }
   ],
   "source": [
    "# Add Compounds\n",
    "sim.AddCompound(\"Water\")"
   ]
  },
  {
   "cell_type": "code",
   "execution_count": 5,
   "metadata": {},
   "outputs": [],
   "source": [
    "one = sim.AddFlowsheetObject('Material Stream','1')\n",
    "two = sim.AddFlowsheetObject('Material Stream','2')\n",
    "three = sim.AddFlowsheetObject('Material Stream','3')\n",
    "four = sim.AddFlowsheetObject('Material Stream','4')\n",
    "five = sim.AddFlowsheetObject('Material Stream','5')\n",
    "six = sim.AddFlowsheetObject('Material Stream','6')\n",
    "E1 = sim.AddFlowsheetObject('Energy Stream','E1')\n",
    "E2 = sim.AddFlowsheetObject('Energy Stream','E2')\n",
    "E3 = sim.AddFlowsheetObject('Energy Stream','E3')\n",
    "AC_1 = sim.AddFlowsheetObject('Air Cooler 2','AC-1')\n",
    "AC_2 = sim.AddFlowsheetObject('Air Cooler 2','AC-2')\n",
    "AC_3 = sim.AddFlowsheetObject('Air Cooler 2','AC-3')"
   ]
  },
  {
   "cell_type": "code",
   "execution_count": 6,
   "metadata": {},
   "outputs": [],
   "source": [
    "one = one.GetAsObject()\n",
    "two = two.GetAsObject()\n",
    "three = three.GetAsObject()\n",
    "four = four.GetAsObject()\n",
    "five = five.GetAsObject()\n",
    "six = six.GetAsObject()\n",
    "E1 = E1.GetAsObject()\n",
    "E2 = E2.GetAsObject()\n",
    "E3 = E3.GetAsObject()\n",
    "AC_1 = AC_1.GetAsObject()\n",
    "AC_2 = AC_2.GetAsObject()\n",
    "AC_3 = AC_3.GetAsObject()"
   ]
  },
  {
   "cell_type": "code",
   "execution_count": 7,
   "metadata": {},
   "outputs": [],
   "source": [
    "AC_1.CreateConnectors()\n",
    "AC_2.CreateConnectors()\n",
    "AC_3.CreateConnectors()"
   ]
  },
  {
   "cell_type": "code",
   "execution_count": 8,
   "metadata": {},
   "outputs": [],
   "source": [
    "sim.ConnectObjects(one.GraphicObject , AC_1.GraphicObject, -1, -1)\n",
    "sim.ConnectObjects(E1.GraphicObject , AC_1.GraphicObject, -1, -1)\n",
    "sim.ConnectObjects(AC_1.GraphicObject , two.GraphicObject, -1, -1)\n",
    "sim.ConnectObjects(three.GraphicObject , AC_2.GraphicObject, -1, -1)\n",
    "sim.ConnectObjects(E2.GraphicObject , AC_2.GraphicObject, -1, -1)\n",
    "sim.ConnectObjects(AC_2.GraphicObject , four.GraphicObject, -1, -1)\n",
    "sim.ConnectObjects(five.GraphicObject , AC_3.GraphicObject, -1, -1)\n",
    "sim.ConnectObjects(E3.GraphicObject , AC_3.GraphicObject, -1, -1)\n",
    "sim.ConnectObjects(AC_3.GraphicObject , six.GraphicObject, -1, -1)"
   ]
  },
  {
   "cell_type": "code",
   "execution_count": 9,
   "metadata": {},
   "outputs": [],
   "source": [
    "sim.AutoLayout()"
   ]
  },
  {
   "cell_type": "code",
   "execution_count": 10,
   "metadata": {},
   "outputs": [
    {
     "data": {
      "text/plain": [
       "'5: mass flow set to 1 kg/s'"
      ]
     },
     "execution_count": 10,
     "metadata": {},
     "output_type": "execute_result"
    }
   ],
   "source": [
    "one.SetOverallComposition(Array[float]([1.0]))\n",
    "one.SetTemperature(300.0) # K\n",
    "one.SetPressure(101325.0) # Pa\n",
    "one.SetMassFlow(1.0) # kg/s\n",
    "\n",
    "three.SetOverallComposition(Array[float]([1.0]))\n",
    "three.SetTemperature(300.0) # K\n",
    "three.SetPressure(101325.0) # Pa\n",
    "three.SetMassFlow(1.0) # kg/s\n",
    "\n",
    "five.SetOverallComposition(Array[float]([1.0]))\n",
    "five.SetTemperature(300.0) # K\n",
    "five.SetPressure(101325.0) # Pa\n",
    "five.SetMassFlow(1.0) # kg/s"
   ]
  },
  {
   "cell_type": "code",
   "execution_count": 11,
   "metadata": {},
   "outputs": [],
   "source": [
    "# property package\n",
    "Thermo_Package = sim.CreateAndAddPropertyPackage(\"Steam Tables (IAPWS-IF97)\")"
   ]
  },
  {
   "cell_type": "code",
   "execution_count": 12,
   "metadata": {},
   "outputs": [],
   "source": [
    "# Setting Calc Modes\n",
    "AC_1.CalculationMode.SpecifyOutletTemperature\n",
    "AC_2.CalculationMode.SpecifyGeometry\n",
    "AC_3.CalculationMode.SpecifyUA\n",
    "# Setting Air Cooler 1 Specs\n",
    "AC_1.PressureDrop = 0\n",
    "AC_1.OutletTemperature = 300\n",
    "AC_1.AirInletTemperature = 298.15\n",
    "AC_1.AirPressure = 101325\n",
    "AC_1.ReferenceFanSpeed = 1000\n",
    "AC_1.ReferenceAirFlow = 10\n",
    "AC_1.ActualFanSpeed = 1000\n",
    "AC_1.ElectricalPowerConversionFactor = 1\n",
    "# Setting Air Cooler 2 Specs\n",
    "AC_2.AirInletTemperature = 298.15\n",
    "AC_2.AirPressure = 101325\n",
    "AC_2.Tube_Di = 50\n",
    "AC_2.Tube_De = 60\n",
    "AC_2.Tube_Length = 5\n",
    "AC_2.Tube_Fouling = 0\n",
    "AC_2.Tube_Roughness = 0.045\n",
    "AC_2.Tube_ThermalConductivity = 70\n",
    "AC_2.Tube_NumberPerShell = 1\n",
    "AC_2.Tube_PassesPerShell = 160\n",
    "AC_2.Tube_Pitch = 80\n",
    "AC_2.ReferenceFanSpeed = 1000\n",
    "AC_2.ReferenceAirFlow = 10\n",
    "AC_2.ActualFanSpeed = 1000\n",
    "AC_2.ElectricalPowerConversionFactor = 1\n",
    "# Setting Air Cooler 3 Specs \n",
    "AC_3.PressureDrop = 0\n",
    "AC_3.AirInletTemperature = 298.15\n",
    "AC_3.AirPressure = 101325\n",
    "AC_3.SpecifyUA = 20303.4\n",
    "AC_3.ReferenceFanSpeed = 1000\n",
    "AC_3.ReferenceAirFlow = 10\n",
    "AC_3.ActualFanSpeed = 1000\n",
    "AC_3.ElectricalPowerConversionFactor = 1"
   ]
  },
  {
   "cell_type": "code",
   "execution_count": 13,
   "metadata": {},
   "outputs": [
    {
     "data": {
      "text/plain": [
       "[]"
      ]
     },
     "execution_count": 13,
     "metadata": {},
     "output_type": "execute_result"
    }
   ],
   "source": [
    "# request a calculation\n",
    "errors = interf.CalculateFlowsheet4(sim)\n",
    "list(errors)"
   ]
  },
  {
   "cell_type": "code",
   "execution_count": 14,
   "metadata": {},
   "outputs": [],
   "source": [
    "# save file\n",
    "\n",
    "fileNameToSave = Path.Combine(Environment.GetFolderPath(Environment.SpecialFolder.Desktop), r\"D:\\08 Linked In\\05 Github\\DWSim-Automation-Repo\\00 FlowSheet Automation\\06 Air Cooler Automation\\06 Air Cooler.dwxmz\")\n",
    "\n",
    "interf.SaveFlowsheet(sim, fileNameToSave, True)"
   ]
  },
  {
   "cell_type": "code",
   "execution_count": 27,
   "metadata": {},
   "outputs": [],
   "source": [
    "# save the pfd to an image and display it\n",
    "\n",
    "clr.AddReference(dwSimPath + \"SkiaSharp.dll\")\n",
    "clr.AddReference(\"System.Drawing\")\n",
    "\n",
    "from SkiaSharp import SKBitmap, SKImage, SKCanvas, SKEncodedImageFormat\n",
    "from System.IO import MemoryStream\n",
    "from System.Drawing import Image\n",
    "from System.Drawing.Imaging import ImageFormat\n",
    "\n",
    "PFDSurface = sim.GetSurface()\n",
    "\n",
    "imgwidth = 1024\n",
    "imgheight = 768\n",
    "\n",
    "bmp = SKBitmap(imgwidth, imgheight)\n",
    "canvas = SKCanvas(bmp)\n",
    "PFDSurface.Center(imgwidth, imgheight)\n",
    "PFDSurface.ZoomAll(imgwidth, imgheight)\n",
    "PFDSurface.UpdateCanvas(canvas)\n",
    "d = SKImage.FromBitmap(bmp).Encode(SKEncodedImageFormat.Png, 100)\n",
    "str = MemoryStream()\n",
    "d.SaveTo(str)\n",
    "image = Image.FromStream(str)\n",
    "imgPath = Path.Combine(Environment.GetFolderPath(Environment.SpecialFolder.Desktop), r\"D:\\08 Linked In\\05 Github\\DWSim-Automation-Repo\\00 FlowSheet Automation\\06 Air Cooler Automation\\06 Air Cooler.png\")\n",
    "image.Save(imgPath, ImageFormat.Png)\n",
    "str.Dispose()\n",
    "canvas.Dispose()\n",
    "bmp.Dispose()\n",
    "\n",
    "from PIL import Image\n",
    "\n",
    "im = Image.open(imgPath)\n",
    "im.show()"
   ]
  },
  {
   "cell_type": "code",
   "execution_count": null,
   "metadata": {},
   "outputs": [],
   "source": []
  }
 ],
 "metadata": {
  "kernelspec": {
   "display_name": "Python 3",
   "language": "python",
   "name": "python3"
  },
  "language_info": {
   "codemirror_mode": {
    "name": "ipython",
    "version": 3
   },
   "file_extension": ".py",
   "mimetype": "text/x-python",
   "name": "python",
   "nbconvert_exporter": "python",
   "pygments_lexer": "ipython3",
   "version": "3.11.2"
  }
 },
 "nbformat": 4,
 "nbformat_minor": 2
}
