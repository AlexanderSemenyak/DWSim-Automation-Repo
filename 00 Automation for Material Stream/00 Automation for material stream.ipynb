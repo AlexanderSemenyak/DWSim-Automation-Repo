{
 "cells": [
  {
   "attachments": {},
   "cell_type": "markdown",
   "metadata": {},
   "source": [
    "🤖 Automation can be extremely useful in generating process data in process simulators. Here are a few ways that automation can be used to improve the efficiency and accuracy of process simulation:\n",
    "\n",
    "💻 Batch Processing: Automation can be used to run multiple simulations in batch mode, allowing large numbers of simulations to be performed quickly and easily. This can help to generate a large amount of process data in a short amount of time, enabling the identification of trends and patterns that might not be evident from individual simulations.\n",
    "\n",
    "📜 Scripting: Scripting can be used to automate the process of creating simulation models, defining simulation parameters, and running simulations. This can help to ensure that simulations are performed consistently and accurately, reducing the risk of errors or omissions.\n",
    "\n",
    "🔍 Optimization: Automation can be used to automate the optimization of process parameters, allowing simulations to be run with different sets of parameters in order to identify the most efficient and effective combination. This can help to reduce the time and cost associated with optimization studies, and can also help to identify opportunities for process improvement.\n",
    "\n",
    "📊 Data Analysis: Automation can be used to analyze large amounts of simulation data, enabling trends and patterns to be identified quickly and easily. This can help to improve the accuracy of process simulations, and can also help to identify areas for process improvement.\n",
    "\n",
    "Overall, automation can be an extremely useful tool in generating process data in process simulators. By automating repetitive or time-consuming tasks, simulation engineers can focus on the more complex and challenging aspects of the simulation process, ultimately leading to better process designs and more efficient and effective manufacturing processes. 🚀"
   ]
  },
  {
   "cell_type": "code",
   "execution_count": 105,
   "metadata": {},
   "outputs": [
    {
     "data": {
      "image/png": "[encoded data removed]",
      "text/plain": [
       "<PIL.PngImagePlugin.PngImageFile image mode=RGBA size=574x390>"
      ]
     },
     "metadata": {},
     "output_type": "display_data"
    }
   ],
   "source": [
    "# Import the display function from the IPython.display module\n",
    "from IPython.display import display\n",
    "\n",
    "# Import the Image class from the PIL module\n",
    "from PIL import Image\n",
    "\n",
    "# Open an image file using the Image class and assign it to the variable Basis_image\n",
    "Basis_image = Image.open(r\"D:\\08 Linked In\\03 DWSim Automation\\00 Automation for material stream\\00 Automation for material stream.png\")\n",
    "\n",
    "# Display the Basis_image using the display function from IPython.display\n",
    "display(Basis_image)"
   ]
  },
  {
   "cell_type": "code",
   "execution_count": 106,
   "metadata": {},
   "outputs": [],
   "source": [
    "# Import the clr module, which provides the .NET Common Language Runtime (CLR) functionality for Python\n",
    "import clr\n",
    "\n",
    "# Import the System.IO module, which provides access to the input/output (I/O) operations on files and directories\n",
    "import System.IO\n",
    "\n",
    "# Import the System module, which provides access to common types and functionality in the .NET framework\n",
    "import System\n",
    "\n",
    "# Import the pythoncom module, which provides Python bindings for COM (Component Object Model) services\n",
    "import pythoncom\n",
    "\n",
    "# Import the Directory, Path, and File classes from the System.IO module, which provide methods for working with directories and files\n",
    "from System.IO import Directory, Path, File\n",
    "\n",
    "# Import the String and Environment classes from the System module, which provide methods for working with strings and environment variables\n",
    "from System import String, Environment\n",
    "\n",
    "# Initialize the COM components\n",
    "pythoncom.CoInitialize()\n",
    "\n",
    "# Set the path to the DWSIM installation folder\n",
    "dwSimPath = r\"C:\\Users\\viraj\\AppData\\Local\\DWSIM\\\\\"\n",
    "\n",
    "# Add references to the DWSIM libraries using the clr module\n",
    "# The AddReference method is used to add a reference to a .NET assembly\n",
    "# The path to the assembly is constructed using the dwSimPath variable and the name of the assembly file\n",
    "# Each assembly provides a specific set of functionality for DWSIM\n",
    "clr.AddReference(dwSimPath + \"CapeOpen.dll\")\n",
    "clr.AddReference(dwSimPath + \"DWSIM.Automation.dll\")\n",
    "clr.AddReference(dwSimPath + \"DWSIM.Interfaces.dll\")\n",
    "clr.AddReference(dwSimPath + \"DWSIM.GlobalSettings.dll\")\n",
    "clr.AddReference(dwSimPath + \"DWSIM.SharedClasses.dll\")\n",
    "clr.AddReference(dwSimPath + \"DWSIM.Thermodynamics.dll\")\n",
    "clr.AddReference(dwSimPath + \"DWSIM.UnitOperations.dll\")\n",
    "clr.AddReference(dwSimPath + \"DWSIM.Inspector.dll\")\n",
    "clr.AddReference(dwSimPath + \"System.Buffers.dll\")\n",
    "\n",
    "# Import specific classes from the DWSIM libraries using the \"from...import\" syntax\n",
    "# The classes are used in the subsequent code to access specific functionality provided by DWSIM\n",
    "from DWSIM.Interfaces.Enums.GraphicObjects import ObjectType\n",
    "from DWSIM.Thermodynamics import Streams, PropertyPackages\n",
    "from DWSIM.UnitOperations import UnitOperations\n",
    "from DWSIM.Automation import Automation3\n",
    "from DWSIM.GlobalSettings import Settings\n",
    "\n",
    "# Set the current directory to the DWSIM installation folder using the Directory class from the System.IO module\n",
    "# This is necessary so that the DWSIM libraries can be located and imported correctly\n",
    "Directory.SetCurrentDirectory(dwSimPath)"
   ]
  },
  {
   "cell_type": "code",
   "execution_count": 107,
   "metadata": {},
   "outputs": [],
   "source": [
    "# Create an instance of the Automation3 class from the DWSIM.Automation module\n",
    "# This class provides methods for automating tasks in DWSIM, such as creating and manipulating flowsheets\n",
    "interf = Automation3()"
   ]
  },
  {
   "cell_type": "code",
   "execution_count": 108,
   "metadata": {},
   "outputs": [],
   "source": [
    "# Set the file path of an existing DWSIM flowsheet to be loaded using the Path.Combine method from the System.IO module\n",
    "# The flowsheet file path is constructed using the Environment.GetFolderPath method to obtain the path to the desktop folder and the relative path to the flowsheet file\n",
    "fileNameToLoad = Path.Combine(Environment.GetFolderPath(Environment.SpecialFolder.Desktop), r\"D:\\08 Linked In\\03 DWSim Automation\\00 Automation for material stream\\00 Automation for material stream.dwxmz\")\n",
    "\n",
    "# Load the DWSIM flowsheet using the LoadFlowsheet method of the Automation3 class\n",
    "# The method takes a single argument, which is the file path of the flowsheet to be loaded\n",
    "# The method returns a Simulation object that represents the loaded flowsheet\n",
    "sim = interf.LoadFlowsheet(fileNameToLoad)"
   ]
  },
  {
   "cell_type": "code",
   "execution_count": 109,
   "metadata": {},
   "outputs": [],
   "source": [
    "# Get the inlet stream object from the loaded DWSIM flowsheet using the GetObject method of the Simulation object\n",
    "# The method takes a single argument, which is the ID of the object to be retrieved\n",
    "# In this case, the ID of the inlet stream object is \"1\"\n",
    "inlet_stream = sim.GetObject(\"1\")\n",
    "\n",
    "# Convert the retrieved stream object to an object of the Streams.Stream class from the DWSIM.Thermodynamics module\n",
    "# This is necessary so that the stream object can be manipulated using the methods and properties provided by the Streams.Stream class\n",
    "inlet_stream = inlet_stream.GetAsObject()"
   ]
  },
  {
   "cell_type": "code",
   "execution_count": 110,
   "metadata": {},
   "outputs": [
    {
     "name": "stdout",
     "output_type": "stream",
     "text": [
      "PT\n"
     ]
    }
   ],
   "source": [
    "# Get the current flash specifications of the inlet stream using the GetFlashSpec method of the inlet stream object\n",
    "# The method returns a tuple of two values: the first value is the type of flash (i.e., \"TP\", \"PQ\", or \"UV\"), and the second value is a dictionary of flash specifications (e.g., temperature, pressure, vapor fraction, liquid fraction)\n",
    "flash_spec = inlet_stream.GetFlashSpec()\n",
    "\n",
    "# Print the flash specifications to the console\n",
    "# The print function outputs the value of the \"flash_spec\" variable to the console\n",
    "# The output should be a tuple of two values, which represent the current flash type and specifications of the inlet stream object\n",
    "print(flash_spec)"
   ]
  },
  {
   "cell_type": "code",
   "execution_count": 111,
   "metadata": {},
   "outputs": [
    {
     "data": {
      "text/plain": [
       "348.15"
      ]
     },
     "execution_count": 111,
     "metadata": {},
     "output_type": "execute_result"
    }
   ],
   "source": [
    "# get the current temperature of the inlet stream\n",
    "current_temperature = inlet_stream.GetTemperature()\n",
    "current_temperature"
   ]
  },
  {
   "cell_type": "code",
   "execution_count": 112,
   "metadata": {},
   "outputs": [
    {
     "data": {
      "text/plain": [
       "101325.0"
      ]
     },
     "execution_count": 112,
     "metadata": {},
     "output_type": "execute_result"
    }
   ],
   "source": [
    "# get the current pressure of the inlet stream\n",
    "current_pressure = inlet_stream.GetPressure()\n",
    "current_pressure"
   ]
  },
  {
   "cell_type": "code",
   "execution_count": 113,
   "metadata": {},
   "outputs": [
    {
     "data": {
      "text/plain": [
       "1.0"
      ]
     },
     "execution_count": 113,
     "metadata": {},
     "output_type": "execute_result"
    }
   ],
   "source": [
    "# get the current massflow of the inlet stream\n",
    "current_massflow = inlet_stream.GetMassFlow()\n",
    "current_massflow"
   ]
  },
  {
   "cell_type": "code",
   "execution_count": 114,
   "metadata": {},
   "outputs": [
    {
     "data": {
      "text/plain": [
       "20.3885403354649"
      ]
     },
     "execution_count": 114,
     "metadata": {},
     "output_type": "execute_result"
    }
   ],
   "source": [
    "# get the current molar flow rate of the inlet stream\n",
    "current_molarflowrate = inlet_stream.GetMolarFlow()\n",
    "current_molarflowrate"
   ]
  },
  {
   "cell_type": "code",
   "execution_count": 115,
   "metadata": {},
   "outputs": [
    {
     "data": {
      "text/plain": [
       "-617.398110912666"
      ]
     },
     "execution_count": 115,
     "metadata": {},
     "output_type": "execute_result"
    }
   ],
   "source": [
    "# get the current specific enthalphy of the inlet stream\n",
    "specific_enthalphy = inlet_stream.GetMassEnthalpy()\n",
    "specific_enthalphy"
   ]
  },
  {
   "cell_type": "code",
   "execution_count": 116,
   "metadata": {},
   "outputs": [
    {
     "data": {
      "text/plain": [
       "-1.6483482303665"
      ]
     },
     "execution_count": 116,
     "metadata": {},
     "output_type": "execute_result"
    }
   ],
   "source": [
    "# get the current entrophy of the inlet stream\n",
    "specific_entrophy = inlet_stream.GetMassEntropy()\n",
    "specific_entrophy"
   ]
  },
  {
   "cell_type": "code",
   "execution_count": 117,
   "metadata": {},
   "outputs": [
    {
     "data": {
      "text/plain": [
       "0.00120970784431441"
      ]
     },
     "execution_count": 117,
     "metadata": {},
     "output_type": "execute_result"
    }
   ],
   "source": [
    "# get the current vol flow rate of the inlet stream\n",
    "vol_flowrate = inlet_stream.GetVolumetricFlow()\n",
    "vol_flowrate"
   ]
  },
  {
   "cell_type": "code",
   "execution_count": 118,
   "metadata": {},
   "outputs": [
    {
     "data": {
      "text/plain": [
       "49.04716"
      ]
     },
     "execution_count": 118,
     "metadata": {},
     "output_type": "execute_result"
    }
   ],
   "source": [
    "# get the current molecular weight of the inlet stream\n",
    "mol_weight = inlet_stream.GetOverallMolecularWeight()\n",
    "mol_weight"
   ]
  },
  {
   "cell_type": "code",
   "execution_count": 119,
   "metadata": {},
   "outputs": [
    {
     "data": {
      "text/plain": [
       "-321.68272188708"
      ]
     },
     "execution_count": 119,
     "metadata": {},
     "output_type": "execute_result"
    }
   ],
   "source": [
    "# get the energy flow to the stream\n",
    "energy_flow = inlet_stream.GetEnergyFlow()\n",
    "energy_flow"
   ]
  },
  {
   "cell_type": "code",
   "execution_count": 120,
   "metadata": {},
   "outputs": [
    {
     "data": {
      "text/plain": [
       "'Material Stream'"
      ]
     },
     "execution_count": 120,
     "metadata": {},
     "output_type": "execute_result"
    }
   ],
   "source": [
    "# gets the obj name\n",
    "obj = inlet_stream.GetDisplayName()\n",
    "obj"
   ]
  },
  {
   "cell_type": "code",
   "execution_count": 121,
   "metadata": {},
   "outputs": [
    {
     "data": {
      "text/plain": [
       "2"
      ]
     },
     "execution_count": 121,
     "metadata": {},
     "output_type": "execute_result"
    }
   ],
   "source": [
    "# gets the number of compounds in the inlet stream\n",
    "no_of_compounds = inlet_stream.GetNumCompounds()\n",
    "no_of_compounds"
   ]
  },
  {
   "cell_type": "code",
   "execution_count": 122,
   "metadata": {},
   "outputs": [
    {
     "data": {
      "text/plain": [
       "'1'"
      ]
     },
     "execution_count": 122,
     "metadata": {},
     "output_type": "execute_result"
    }
   ],
   "source": [
    "# setting the inlet stream as a graphic obj to get the user defined name of material stream\n",
    "inlet_stream.GraphicObject.get_Tag()"
   ]
  },
  {
   "cell_type": "code",
   "execution_count": 123,
   "metadata": {},
   "outputs": [
    {
     "data": {
      "text/plain": [
       "<DWSIM.Thermodynamics.PropertyPackages.RaoultPropertyPackage object at 0x000001FE76B689C0>"
      ]
     },
     "execution_count": 123,
     "metadata": {},
     "output_type": "execute_result"
    }
   ],
   "source": [
    "# Gets the property package of the material stream\n",
    "inlet_stream.get_PropertyPackage()"
   ]
  },
  {
   "cell_type": "code",
   "execution_count": 124,
   "metadata": {},
   "outputs": [
    {
     "data": {
      "text/plain": [
       "[0.6, 0.4]"
      ]
     },
     "execution_count": 124,
     "metadata": {},
     "output_type": "execute_result"
    }
   ],
   "source": [
    "# Gets the mass fraction of the material stream\n",
    "list(inlet_stream.GetOverallComposition())"
   ]
  },
  {
   "cell_type": "code",
   "execution_count": 125,
   "metadata": {},
   "outputs": [
    {
     "data": {
      "text/plain": [
       "['Acetonitrile', 'Nitromethane']"
      ]
     },
     "execution_count": 125,
     "metadata": {},
     "output_type": "execute_result"
    }
   ],
   "source": [
    "# Gives a list of compounds in flowsheet\n",
    "list(inlet_stream.get_ComponentIds())"
   ]
  },
  {
   "cell_type": "code",
   "execution_count": 126,
   "metadata": {},
   "outputs": [
    {
     "data": {
      "text/plain": [
       "3"
      ]
     },
     "execution_count": 126,
     "metadata": {},
     "output_type": "execute_result"
    }
   ],
   "source": [
    "# Gets number of phases in material stream\n",
    "inlet_stream.GetNumPhases()"
   ]
  },
  {
   "cell_type": "code",
   "execution_count": 127,
   "metadata": {},
   "outputs": [
    {
     "name": "stdout",
     "output_type": "stream",
     "text": [
      "The current pressure of stream is 101325.0 Pa\n",
      "The current temperature of stream is 348.15 K\n",
      "The current mass flow of stream is 1.0 kg/s\n",
      "The current molar flow of stream is 20.3885403354649 mol/s\n",
      "The current volumetric flow of stream is 0.00120970784431441 m3/s\n",
      "The current specific enthalphy of stream is -617.398110912666 kJ/kg\n",
      "The current specific entrophy of stream is -1.6483482303665 kJ/kg.K\n",
      "The current energy flow of stream is -321.68272188708 kW\n"
     ]
    }
   ],
   "source": [
    "print(f'The current pressure of stream is', current_pressure,'Pa')\n",
    "print(f'The current temperature of stream is', current_temperature,'K')\n",
    "print(f'The current mass flow of stream is', current_massflow,'kg/s')\n",
    "print(f'The current molar flow of stream is', current_molarflowrate,'mol/s')\n",
    "print(f'The current volumetric flow of stream is', vol_flowrate,'m3/s')\n",
    "print(f'The current specific enthalphy of stream is', specific_enthalphy,'kJ/kg')\n",
    "print(f'The current specific entrophy of stream is', specific_entrophy,'kJ/kg.K')\n",
    "print(f'The current energy flow of stream is', energy_flow,'kW')"
   ]
  },
  {
   "cell_type": "code",
   "execution_count": 128,
   "metadata": {},
   "outputs": [
    {
     "data": {
      "text/plain": [
       "'1: mass flow set to 5 kg/s'"
      ]
     },
     "execution_count": 128,
     "metadata": {},
     "output_type": "execute_result"
    }
   ],
   "source": [
    "# set the new temperature of the inlet stream\n",
    "new_massflow = current_massflow + 4.0 # increase the massflow by 4 kg/s\n",
    "inlet_stream.SetMassFlow(new_massflow)"
   ]
  },
  {
   "cell_type": "code",
   "execution_count": 129,
   "metadata": {},
   "outputs": [],
   "source": [
    "# Set the solver mode of DWSIM to use the default solver by setting the SolverMode property of the Settings object to 0\n",
    "Settings.SolverMode = 0\n",
    "\n",
    "# Request a calculation of the flowsheet using the CalculateFlowsheet2 method of the automation manager object\n",
    "# The method takes a single argument, which is the simulation object that represents the flowsheet model to be calculated\n",
    "# The method returns a list of error messages, which can be used to diagnose and troubleshoot simulation errors\n",
    "errors = interf.CalculateFlowsheet2(sim)"
   ]
  },
  {
   "cell_type": "code",
   "execution_count": 130,
   "metadata": {},
   "outputs": [
    {
     "data": {
      "text/plain": [
       "-1608.4136094354012"
      ]
     },
     "execution_count": 130,
     "metadata": {},
     "output_type": "execute_result"
    }
   ],
   "source": [
    "# get the current temperature of the inlet stream\n",
    "modified_temperature = inlet_stream.GetTemperature()\n",
    "modified_temperature\n",
    "modified_pressure = inlet_stream.GetPressure()\n",
    "modified_pressure\n",
    "modified_massflow = inlet_stream.GetMassFlow()\n",
    "modified_massflow\n",
    "modified_molarflow = inlet_stream.GetMolarFlow()\n",
    "modified_molarflow\n",
    "modified_specific_enthalphy = inlet_stream.GetMassEnthalpy()\n",
    "modified_specific_enthalphy\n",
    "modified_specific_entrophy = inlet_stream.GetMassEntropy()\n",
    "modified_specific_entrophy\n",
    "modified_vol_flowrate = inlet_stream.GetVolumetricFlow()\n",
    "modified_vol_flowrate\n",
    "modified_energy_flow = inlet_stream.GetEnergyFlow()\n",
    "modified_energy_flow"
   ]
  },
  {
   "cell_type": "code",
   "execution_count": 131,
   "metadata": {},
   "outputs": [
    {
     "name": "stdout",
     "output_type": "stream",
     "text": [
      "The modified pressure of stream is 101325.0 Pa\n",
      "The modified temperature of stream is 348.15 K\n",
      "The modified mass flow of stream is 5.0 kg/s\n",
      "The modified molar flow of stream is 101.94270167732444 mol/s\n",
      "The modified volumetric flow of stream is 0.006048539221572028 m3/s\n",
      "The modified specific enthalphy of stream is -617.3981109126657 kJ/kg\n",
      "The modified specific entrophy of stream is -1.6483482303664956 kJ/kg.K\n",
      "The modified energy flow of stream is -1608.4136094354012 kW\n"
     ]
    }
   ],
   "source": [
    "print(f'The modified pressure of stream is', modified_pressure,'Pa')\n",
    "print(f'The modified temperature of stream is', modified_temperature,'K')\n",
    "print(f'The modified mass flow of stream is', modified_massflow,'kg/s')\n",
    "print(f'The modified molar flow of stream is', modified_molarflow,'mol/s')\n",
    "print(f'The modified volumetric flow of stream is', modified_vol_flowrate,'m3/s')\n",
    "print(f'The modified specific enthalphy of stream is', modified_specific_enthalphy,'kJ/kg')\n",
    "print(f'The modified specific entrophy of stream is', modified_specific_entrophy,'kJ/kg.K')\n",
    "print(f'The modified energy flow of stream is', modified_energy_flow,'kW')"
   ]
  },
  {
   "cell_type": "code",
   "execution_count": 136,
   "metadata": {},
   "outputs": [
    {
     "name": "stdout",
     "output_type": "stream",
     "text": [
      "+--------------+---------------+------------+-------------+--------------+-------------------+---------------------+--------------------+\n",
      "| Flash Spec   |   Temperature |   Pressure |   Mass Flow |   Molar Flow |   Volumetric Flow |   Specific Enthalpy |   Specific Entropy |\n",
      "+==============+===============+============+=============+==============+===================+=====================+====================+\n",
      "| PT           |        348.15 |     101325 |           2 |      40.7771 |        0.00241942 |            -617.398 |           -1.64835 |\n",
      "+--------------+---------------+------------+-------------+--------------+-------------------+---------------------+--------------------+\n",
      "| PT           |        348.15 |     101325 |           3 |      61.1656 |        0.00362912 |            -617.398 |           -1.64835 |\n",
      "+--------------+---------------+------------+-------------+--------------+-------------------+---------------------+--------------------+\n",
      "| PT           |        348.15 |     101325 |           4 |      81.5542 |        0.00483883 |            -617.398 |           -1.64835 |\n",
      "+--------------+---------------+------------+-------------+--------------+-------------------+---------------------+--------------------+\n",
      "| PT           |        348.15 |     101325 |           5 |     101.943  |        0.00604854 |            -617.398 |           -1.64835 |\n",
      "+--------------+---------------+------------+-------------+--------------+-------------------+---------------------+--------------------+\n",
      "| PT           |        348.15 |     101325 |           6 |     122.331  |        0.00725825 |            -617.398 |           -1.64835 |\n",
      "+--------------+---------------+------------+-------------+--------------+-------------------+---------------------+--------------------+\n",
      "| PT           |        348.15 |     101325 |           7 |     142.72   |        0.00846795 |            -617.398 |           -1.64835 |\n",
      "+--------------+---------------+------------+-------------+--------------+-------------------+---------------------+--------------------+\n",
      "| PT           |        348.15 |     101325 |           8 |     163.108  |        0.00967766 |            -617.398 |           -1.64835 |\n",
      "+--------------+---------------+------------+-------------+--------------+-------------------+---------------------+--------------------+\n",
      "| PT           |        348.15 |     101325 |           9 |     183.497  |        0.0108874  |            -617.398 |           -1.64835 |\n",
      "+--------------+---------------+------------+-------------+--------------+-------------------+---------------------+--------------------+\n",
      "| PT           |        348.15 |     101325 |          10 |     203.885  |        0.0120971  |            -617.398 |           -1.64835 |\n",
      "+--------------+---------------+------------+-------------+--------------+-------------------+---------------------+--------------------+\n",
      "| PT           |        348.15 |     101325 |          11 |     224.274  |        0.0133068  |            -617.398 |           -1.64835 |\n",
      "+--------------+---------------+------------+-------------+--------------+-------------------+---------------------+--------------------+\n"
     ]
    }
   ],
   "source": [
    "from tabulate import tabulate\n",
    "\n",
    "# Define the initial mass flow rate\n",
    "mass_flow_rate = inlet_stream.GetMassFlow()\n",
    "\n",
    "# Set the solver mode to use the default solver\n",
    "Settings.SolverMode = 0\n",
    "\n",
    "# Create an empty list to store the results\n",
    "results = []\n",
    "\n",
    "# Iterate 10 times, increasing the mass flow rate by 1 kg/s each time\n",
    "for i in range(10):\n",
    "    # Increase the mass flow rate by 1 kg/s\n",
    "    mass_flow_rate += 1.0\n",
    "    \n",
    "    # Set the new mass flow rate of the inlet stream\n",
    "    inlet_stream.SetMassFlow(mass_flow_rate)\n",
    "    \n",
    "    # Calculate the flowsheet\n",
    "    errors = interf.CalculateFlowsheet2(sim)\n",
    "    \n",
    "    # Get the new flash spec and pressure\n",
    "    flash_spec = inlet_stream.GetFlashSpec()\n",
    "    temp = inlet_stream.GetTemperature()\n",
    "    pressure = inlet_stream.GetPressure()\n",
    "    mass_flow_rate = inlet_stream.GetMassFlow()\n",
    "    molar_flowrate = inlet_stream.GetMolarFlow()\n",
    "    vol_flowrate = inlet_stream.GetVolumetricFlow()\n",
    "    specific_enthalphy = inlet_stream.GetMassEnthalpy()\n",
    "    specific_entrophy = inlet_stream.GetMassEntropy()\n",
    "    \n",
    "    # Append the results to the list\n",
    "    results.append([flash_spec, temp, pressure, mass_flow_rate, molar_flowrate, vol_flowrate, specific_enthalphy, specific_entrophy])\n",
    "\n",
    "# Define the headers for the table\n",
    "headers = [\"Flash Spec\", \"Temperature\", \"Pressure\", \"Mass Flow\", \"Molar Flow\", \"Volumetric Flow\", \"Specific Enthalpy\", \"Specific Entropy\"]\n",
    "\n",
    "# Print the results in a table format\n",
    "print(tabulate(results, headers=headers, tablefmt=\"grid\"))\n"
   ]
  },
  {
   "cell_type": "code",
   "execution_count": 133,
   "metadata": {},
   "outputs": [],
   "source": [
    "# saving the modified version of file at same path\n",
    "\n",
    "fileNameToSave = Path.Combine(Environment.GetFolderPath(Environment.SpecialFolder.Desktop), r\"D:\\08 Linked In\\03 DWSim Automation\\00 Automation for material stream\\00 Modified_flowsheet.dwxmz\")\n",
    "\n",
    "interf.SaveFlowsheet(sim, fileNameToSave, True)"
   ]
  }
 ],
 "metadata": {
  "kernelspec": {
   "display_name": "Python 3",
   "language": "python",
   "name": "python3"
  },
  "language_info": {
   "codemirror_mode": {
    "name": "ipython",
    "version": 3
   },
   "file_extension": ".py",
   "mimetype": "text/x-python",
   "name": "python",
   "nbconvert_exporter": "python",
   "pygments_lexer": "ipython3",
   "version": "3.11.2"
  },
  "orig_nbformat": 4
 },
 "nbformat": 4,
 "nbformat_minor": 2
}
